{
 "cells": [
  {
   "cell_type": "code",
   "execution_count": 111,
   "id": "f04343a3-5c11-425f-9b11-c8e2cedac009",
   "metadata": {},
   "outputs": [
    {
     "ename": "IndexError",
     "evalue": "list assignment index out of range",
     "output_type": "error",
     "traceback": [
      "\u001b[1;31m---------------------------------------------------------------------------\u001b[0m",
      "\u001b[1;31mIndexError\u001b[0m                                Traceback (most recent call last)",
      "Cell \u001b[1;32mIn[111], line 2\u001b[0m\n\u001b[0;32m      1\u001b[0m x \u001b[38;5;241m=\u001b[39m [\u001b[38;5;241m1\u001b[39m,\u001b[38;5;241m2\u001b[39m,\u001b[38;5;241m3\u001b[39m,\u001b[38;5;241m4\u001b[39m,\u001b[38;5;241m5\u001b[39m,\u001b[38;5;241m6\u001b[39m,\u001b[38;5;241m7\u001b[39m,\u001b[38;5;241m8\u001b[39m,\u001b[38;5;241m9\u001b[39m]\n\u001b[1;32m----> 2\u001b[0m x[i] \u001b[38;5;241m=\u001b[39m [\u001b[38;5;241m-\u001b[39mx[i] \u001b[38;5;28;01mfor\u001b[39;00m i \u001b[38;5;129;01min\u001b[39;00m \u001b[38;5;28mrange\u001b[39m(\u001b[38;5;28mlen\u001b[39m(x)\u001b[38;5;241m-\u001b[39m\u001b[38;5;241m1\u001b[39m)]\n",
      "\u001b[1;31mIndexError\u001b[0m: list assignment index out of range"
     ]
    }
   ],
   "source": [
    "x = [1,2,3,4,5,6,7,8,9]\n",
    "x[i] = [-x[i] for i in range(len(x)-1)]"
   ]
  },
  {
   "cell_type": "code",
   "execution_count": 115,
   "id": "1159cf92-761e-42de-ab26-3695c2ebbf04",
   "metadata": {},
   "outputs": [
    {
     "name": "stdout",
     "output_type": "stream",
     "text": [
      "\"You can't believe everything that you read on the internet.\" - Albert Einstein\n"
     ]
    }
   ],
   "source": [
    "def Instant_Genius(quote, n):\n",
    "    genius = ['Isaac Newton', 'Albert Einstein', 'Stephen Hawking']\n",
    "    return '\"'+quote+'\" - '+genius[n]\n",
    "\n",
    "advice = \"You can't believe everything that you read on the internet.\"\n",
    "\n",
    "print(Instant_Genius(advice, 1))"
   ]
  },
  {
   "cell_type": "code",
   "execution_count": 147,
   "id": "a9c5e1d1-7831-497a-a9b2-3e9ee3d810de",
   "metadata": {},
   "outputs": [
    {
     "name": "stdout",
     "output_type": "stream",
     "text": [
      "0\n",
      "1\n",
      "2\n",
      "3\n",
      "4\n"
     ]
    }
   ],
   "source": [
    "for i in range(5):\n",
    "    print(i)\n",
    "    "
   ]
  },
  {
   "cell_type": "code",
   "execution_count": 149,
   "id": "b39d8bbc-4466-4e02-92d8-7056c28d8222",
   "metadata": {},
   "outputs": [
    {
     "name": "stdout",
     "output_type": "stream",
     "text": [
      "12738040\n"
     ]
    }
   ],
   "source": [
    "print(2345*5432)"
   ]
  },
  {
   "cell_type": "code",
   "execution_count": 145,
   "id": "850629a4-9b25-4159-b22d-a829abecd31f",
   "metadata": {},
   "outputs": [
    {
     "data": {
      "text/plain": [
       "23"
      ]
     },
     "execution_count": 145,
     "metadata": {},
     "output_type": "execute_result"
    }
   ],
   "source": [
    "x = [5]\n",
    "range(3,100,4)[x[0]]"
   ]
  },
  {
   "cell_type": "code",
   "execution_count": 119,
   "id": "d4bd64a7-e71e-4327-b88a-a6a14dd0fdfd",
   "metadata": {},
   "outputs": [],
   "source": [
    "from math import sin,cos"
   ]
  },
  {
   "cell_type": "code",
   "execution_count": 123,
   "id": "d5d30803-9816-4ea4-aa50-0ca27fa1f3cd",
   "metadata": {},
   "outputs": [
    {
     "data": {
      "text/plain": [
       "0.5403023058681398"
      ]
     },
     "execution_count": 123,
     "metadata": {},
     "output_type": "execute_result"
    }
   ],
   "source": [
    "cos(1)"
   ]
  }
 ],
 "metadata": {
  "kernelspec": {
   "display_name": "Python 3 (ipykernel)",
   "language": "python",
   "name": "python3"
  },
  "language_info": {
   "codemirror_mode": {
    "name": "ipython",
    "version": 3
   },
   "file_extension": ".py",
   "mimetype": "text/x-python",
   "name": "python",
   "nbconvert_exporter": "python",
   "pygments_lexer": "ipython3",
   "version": "3.12.4"
  }
 },
 "nbformat": 4,
 "nbformat_minor": 5
}
